{
 "cells": [
  {
   "cell_type": "code",
   "execution_count": 1,
   "metadata": {},
   "outputs": [],
   "source": [
    "import pandas as pd\n",
    "\n",
    "def load():\n",
    "    restart = input('Do you want to restart (y/n):')\n",
    "    global df\n",
    "    if restart == 'y':\n",
    "        with open('ESV_raw.csv', 'r') as file:\n",
    "            df = pd.read_csv(file, header=None)\n",
    "        print('Raw file loaded.')\n",
    "    elif restart == 'n':\n",
    "        with open('ESV_fixed.csv', 'r') as file:\n",
    "            df = pd.read_csv(file, index_col=0)\n",
    "        print('Fixed file loaded.')\n",
    "    else:\n",
    "        print('Invalid entry. Run again.')\n",
    "\n",
    "def lastreplace(verse, to_replace, new, maxreplace):\n",
    "    result = new.join(verse.rsplit(to_replace, maxreplace))\n",
    "    return result\n",
    "        \n",
    "def edit():\n",
    "    are_you_sure = input('Are you sure you want to run edit? (y/n) ')\n",
    "    global df\n",
    "    if are_you_sure == 'y':\n",
    "        \n",
    "        for row in range(0, df.shape[0]):\n",
    "            verse = df.iloc[row, 3]\n",
    "            if verse.endswith('\\\\n'):\n",
    "                verse = lastreplace(verse, '\\\\n', '', 1)\n",
    "            if verse.endswith('\\n'):\n",
    "                verse = lastreplace(verse, '\\n', '', 1)\n",
    "            verse = verse.replace('\\\\n', '\\n\\n', 1)\n",
    "            verse = verse.replace('\\\\n', '\\n')\n",
    "            if verse.find('\\n') != -1:\n",
    "                verse = verse + '\\n'\n",
    "                df.iloc[row,3] = verse\n",
    "            else:\n",
    "                df.iloc[row,3] = verse\n",
    "        print('Edit successful.')\n",
    "    else:\n",
    "        print('No edits made.')\n",
    "\n",
    "def save():\n",
    "    global df\n",
    "    print(\"Enter 'ESV_fixed.csv' to save to master.\")\n",
    "    file = input('Save as (.csv file):')\n",
    "    df.to_csv(file)\n",
    "\n",
    "def book(book,chapter):\n",
    "    global df\n",
    "    for row in range(0, df.shape[0]):\n",
    "        if df.iloc[row,0] == book and df.iloc[row,1] == chapter:\n",
    "            print(str(df.iloc[row,2]) + ' ' + df.iloc[row,3])"
   ]
  },
  {
   "cell_type": "code",
   "execution_count": 3,
   "metadata": {},
   "outputs": [
    {
     "name": "stdin",
     "output_type": "stream",
     "text": [
      "Do you want to restart (y/n): n\n"
     ]
    },
    {
     "name": "stdout",
     "output_type": "stream",
     "text": [
      "Fixed file loaded.\n"
     ]
    }
   ],
   "source": [
    "load()"
   ]
  },
  {
   "cell_type": "code",
   "execution_count": null,
   "metadata": {},
   "outputs": [],
   "source": [
    "edit()"
   ]
  },
  {
   "cell_type": "code",
   "execution_count": null,
   "metadata": {},
   "outputs": [],
   "source": [
    "save()"
   ]
  },
  {
   "cell_type": "code",
   "execution_count": 6,
   "metadata": {},
   "outputs": [
    {
     "data": {
      "text/html": [
       "<div>\n",
       "<style scoped>\n",
       "    .dataframe tbody tr th:only-of-type {\n",
       "        vertical-align: middle;\n",
       "    }\n",
       "\n",
       "    .dataframe tbody tr th {\n",
       "        vertical-align: top;\n",
       "    }\n",
       "\n",
       "    .dataframe thead th {\n",
       "        text-align: right;\n",
       "    }\n",
       "</style>\n",
       "<table border=\"1\" class=\"dataframe\">\n",
       "  <thead>\n",
       "    <tr style=\"text-align: right;\">\n",
       "      <th></th>\n",
       "      <th>0</th>\n",
       "      <th>1</th>\n",
       "      <th>2</th>\n",
       "      <th>3</th>\n",
       "    </tr>\n",
       "  </thead>\n",
       "  <tbody>\n",
       "    <tr>\n",
       "      <th>0</th>\n",
       "      <td>1</td>\n",
       "      <td>1</td>\n",
       "      <td>1</td>\n",
       "      <td>In the beginning, God created the heavens and ...</td>\n",
       "    </tr>\n",
       "    <tr>\n",
       "      <th>1</th>\n",
       "      <td>1</td>\n",
       "      <td>1</td>\n",
       "      <td>2</td>\n",
       "      <td>The earth was without form and void, and darkn...</td>\n",
       "    </tr>\n",
       "    <tr>\n",
       "      <th>2</th>\n",
       "      <td>1</td>\n",
       "      <td>1</td>\n",
       "      <td>3</td>\n",
       "      <td>And God said, \\n\\nLet there be light,\\n and th...</td>\n",
       "    </tr>\n",
       "    <tr>\n",
       "      <th>3</th>\n",
       "      <td>1</td>\n",
       "      <td>1</td>\n",
       "      <td>4</td>\n",
       "      <td>And God saw that the light was good. And God s...</td>\n",
       "    </tr>\n",
       "    <tr>\n",
       "      <th>4</th>\n",
       "      <td>1</td>\n",
       "      <td>1</td>\n",
       "      <td>5</td>\n",
       "      <td>God called the light Day, and the darkness he ...</td>\n",
       "    </tr>\n",
       "  </tbody>\n",
       "</table>\n",
       "</div>"
      ],
      "text/plain": [
       "   0  1  2                                                  3\n",
       "0  1  1  1  In the beginning, God created the heavens and ...\n",
       "1  1  1  2  The earth was without form and void, and darkn...\n",
       "2  1  1  3  And God said, \\n\\nLet there be light,\\n and th...\n",
       "3  1  1  4  And God saw that the light was good. And God s...\n",
       "4  1  1  5  God called the light Day, and the darkness he ..."
      ]
     },
     "execution_count": 6,
     "metadata": {},
     "output_type": "execute_result"
    }
   ],
   "source": [
    "df.head()"
   ]
  },
  {
   "cell_type": "code",
   "execution_count": null,
   "metadata": {},
   "outputs": [],
   "source": [
    "book(1,2)"
   ]
  },
  {
   "cell_type": "code",
   "execution_count": null,
   "metadata": {},
   "outputs": [],
   "source": []
  },
  {
   "cell_type": "code",
   "execution_count": null,
   "metadata": {},
   "outputs": [],
   "source": []
  },
  {
   "cell_type": "code",
   "execution_count": null,
   "metadata": {},
   "outputs": [],
   "source": []
  },
  {
   "cell_type": "code",
   "execution_count": null,
   "metadata": {},
   "outputs": [],
   "source": []
  },
  {
   "cell_type": "code",
   "execution_count": null,
   "metadata": {},
   "outputs": [],
   "source": [
    "%load_ext sql\n",
    "%sql sqlite:///esv.db"
   ]
  },
  {
   "cell_type": "code",
   "execution_count": null,
   "metadata": {},
   "outputs": [],
   "source": [
    "%%sql\n",
    "\n",
    "DROP TABLE book;\n",
    "DROP TABLE verse;"
   ]
  },
  {
   "cell_type": "code",
   "execution_count": null,
   "metadata": {},
   "outputs": [],
   "source": [
    "%%sql\n",
    "\n",
    "CREATE TABLE book (\n",
    "    book_id INTEGER PRIMARY KEY AUTOINCREMENT,\n",
    "    name varchar NOT NULL,\n",
    "    info varchar,\n",
    "    testament varchar NOT NULL\n",
    ");\n",
    "\n",
    "CREATE TABLE verse (\n",
    "    verse_id INTEGER PRIMARY KEY AUTOINCREMENT,\n",
    "    chapter INTEGER NOT NULL,\n",
    "    text varchar NOT NULL,\n",
    "    comment varchar,\n",
    "    jesus_text INTEGER NOT NULL\n",
    ");\n"
   ]
  },
  {
   "cell_type": "code",
   "execution_count": null,
   "metadata": {},
   "outputs": [],
   "source": []
  }
 ],
 "metadata": {
  "kernelspec": {
   "display_name": "Python 3",
   "language": "python",
   "name": "python3"
  },
  "language_info": {
   "codemirror_mode": {
    "name": "ipython",
    "version": 3
   },
   "file_extension": ".py",
   "mimetype": "text/x-python",
   "name": "python",
   "nbconvert_exporter": "python",
   "pygments_lexer": "ipython3",
   "version": "3.7.3"
  }
 },
 "nbformat": 4,
 "nbformat_minor": 2
}
