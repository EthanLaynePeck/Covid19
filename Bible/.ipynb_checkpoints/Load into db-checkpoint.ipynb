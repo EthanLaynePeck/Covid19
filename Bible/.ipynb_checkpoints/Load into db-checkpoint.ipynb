{
 "cells": [
  {
   "cell_type": "code",
   "execution_count": 1,
   "metadata": {},
   "outputs": [],
   "source": [
    "import pandas as pd\n",
    "\n",
    "def load():\n",
    "    restart = input('Do you want to restart (y/n):')\n",
    "    global df\n",
    "    if restart == 'y':\n",
    "        with open('ESV_raw.csv', 'r') as file:\n",
    "            df = pd.read_csv(file, header=None)\n",
    "        print('Raw file loaded.')\n",
    "    elif restart == 'n':\n",
    "        with open('ESV_fixed.csv', 'r') as file:\n",
    "            df = pd.read_csv(file, index_col=0)\n",
    "        print('Fixed file loaded.')\n",
    "    else:\n",
    "        print('Invalid entry. Run again.')\n",
    "\n",
    "def lastreplace(verse, to_replace, new, maxreplace):\n",
    "    result = new.join(verse.rsplit(to_replace, maxreplace))\n",
    "    return result\n",
    "        \n",
    "def edit():\n",
    "    are_you_sure = input('Are you sure you want to run edit? (y/n) ')\n",
    "    global df\n",
    "    if are_you_sure == 'y':\n",
    "        \n",
    "        for row in range(0, df.shape[0]):\n",
    "            verse = df.iloc[row, 3]\n",
    "            if verse.endswith('\\\\n'):\n",
    "                verse = lastreplace(verse, '\\\\n', '', 1)\n",
    "            if verse.endswith('\\n'):\n",
    "                verse = lastreplace(verse, '\\n', '', 1)\n",
    "            verse = verse.replace('\\\\n', '\\n\\n', 1)\n",
    "            verse = verse.replace('\\\\n', '\\n')\n",
    "            if verse.find('\\n') != -1:\n",
    "                verse = verse + '\\n'\n",
    "                df.iloc[row,3] = verse\n",
    "            else:\n",
    "                df.iloc[row,3] = verse\n",
    "        print('Edit successful.')\n",
    "    else:\n",
    "        print('No edits made.')\n",
    "\n",
    "def save():\n",
    "    global df\n",
    "    print(\"Enter 'ESV_fixed.csv' to save to master.\")\n",
    "    file = input('Save as (.csv file):')\n",
    "    df.to_csv(file)\n",
    "\n",
    "def book(book,chapter):\n",
    "    global df\n",
    "    for row in range(0, df.shape[0]):\n",
    "        if df.iloc[row,0] == book and df.iloc[row,1] == chapter:\n",
    "            print(str(df.iloc[row,2]) + ' ' + df.iloc[row,3])"
   ]
  },
  {
   "cell_type": "code",
   "execution_count": 3,
   "metadata": {},
   "outputs": [
    {
     "name": "stdin",
     "output_type": "stream",
     "text": [
      "Do you want to restart (y/n): n\n"
     ]
    },
    {
     "name": "stdout",
     "output_type": "stream",
     "text": [
      "Fixed file loaded.\n"
     ]
    }
   ],
   "source": [
    "load()"
   ]
  },
  {
   "cell_type": "code",
   "execution_count": null,
   "metadata": {},
   "outputs": [],
   "source": [
    "edit()"
   ]
  },
  {
   "cell_type": "code",
   "execution_count": null,
   "metadata": {},
   "outputs": [],
   "source": [
    "save()"
   ]
  },
  {
   "cell_type": "code",
   "execution_count": 2,
   "metadata": {},
   "outputs": [
    {
     "ename": "NameError",
     "evalue": "name 'df' is not defined",
     "output_type": "error",
     "traceback": [
      "\u001b[0;31m---------------------------------------------------------------------------\u001b[0m",
      "\u001b[0;31mNameError\u001b[0m                                 Traceback (most recent call last)",
      "\u001b[0;32m<ipython-input-2-c42a15b2c7cf>\u001b[0m in \u001b[0;36m<module>\u001b[0;34m\u001b[0m\n\u001b[0;32m----> 1\u001b[0;31m \u001b[0mdf\u001b[0m\u001b[0;34m.\u001b[0m\u001b[0mhead\u001b[0m\u001b[0;34m(\u001b[0m\u001b[0;34m)\u001b[0m\u001b[0;34m\u001b[0m\u001b[0;34m\u001b[0m\u001b[0m\n\u001b[0m",
      "\u001b[0;31mNameError\u001b[0m: name 'df' is not defined"
     ]
    }
   ],
   "source": [
    "df.head()"
   ]
  },
  {
   "cell_type": "code",
   "execution_count": null,
   "metadata": {},
   "outputs": [],
   "source": [
    "print(df.iloc[47,3].replace('\\\\n', '\\n'))"
   ]
  },
  {
   "cell_type": "code",
   "execution_count": null,
   "metadata": {},
   "outputs": [],
   "source": [
    "print('\\\\\\\\n')\n",
    "print('\\n')"
   ]
  },
  {
   "cell_type": "code",
   "execution_count": null,
   "metadata": {},
   "outputs": [],
   "source": [
    "df.iloc[2,3]"
   ]
  },
  {
   "cell_type": "code",
   "execution_count": 5,
   "metadata": {},
   "outputs": [
    {
     "name": "stdout",
     "output_type": "stream",
     "text": [
      "1 After the death of Saul, when David had returned from striking down the Amalekites, David remained two days in Ziklag.\n",
      "2 And on the third day, behold, a man came from Saul's camp, with his clothes torn and dirt on his head. And when he came to David, he fell to the ground and paid homage.\n",
      "3 David said to him, \n",
      "\n",
      "Where do you come from?\n",
      " And he said to him, \n",
      "I have escaped from the camp of Israel.\n",
      "\n",
      "4 And David said to him, \n",
      "\n",
      "How did it go? Tell me.\n",
      " And he answered, \n",
      "The people fled from the battle, and also many of the people have fallen and are dead, and Saul and his son Jonathan are also dead.\n",
      "\n",
      "5 Then David said to the young man who told him, \n",
      "\n",
      "How do you know that Saul and his son Jonathan are dead?\n",
      "\n",
      "6 And the young man who told him said, \n",
      "\n",
      "By chance I happened to be on Mount Gilboa, and there was Saul leaning on his spear, and behold, the chariots and the horsemen were close upon him.\n",
      "\n",
      "7 And when he looked behind him, he saw me, and called to me. And I answered, 'Here I am.'\n",
      "8 And he said to me, 'Who are you?' I answered him, 'I am an Amalekite.'\n",
      "9 And he said to me 'Stand beside me and kill me, for anguish has seized me, and yet my life still lingers.'\n",
      "10 So I stood beside him and killed him, because I was sure that he could not live after he had fallen. And I took the crown that was on his head and the armlet that was on his arm, and I have brought them here to my lord.\n",
      "11 Then David took hold of his clothes and tore them, and so did all the men who were with him.\n",
      "12 And they mourned and wept and fasted until evening for Saul and for Jonathan his son and for the people of the LORD and for the house of Israel, because they had fallen by the sword.\n",
      "13 And David said to the young man who told him, \n",
      "\n",
      "Where do you come from?\n",
      " And he answered, \n",
      "I am the son of a sojourner, an Amalekite.\n",
      "\n",
      "14 David said to him, \n",
      "\n",
      "How is it you were not afraid to put out your hand to destroy the LORD's anointed?\n",
      "\n",
      "15 Then David called one of the young men and said, \n",
      "\n",
      "Go, execute him.\n",
      " And he struck him down so that he died.\n",
      "\n",
      "16 And David said to him, \n",
      "\n",
      "Your blood be on your head, for your own mouth has testified against you, saying, 'I have killed the LORD's anointed.'\n",
      "\n",
      "17 And David lamented with this lamentation over Saul and Jonathan his son,\n",
      "18 and he said it should be taught to the people of Judah; behold, it is written in the Book of Jashar. He said:\n",
      "19 \n",
      "\n",
      "Your glory, O Israel, is slain on your high places! How the mighty have fallen!\n",
      "\n",
      "20 Tell it not in Gath, publish it not in the streets of Ashkelon, lest the daughters of the Philistines rejoice, lest the daughters of the uncircumcised exult.\n",
      "21 \n",
      "\n",
      "You mountains of Gilboa, let there be no dew or rain upon you, nor fields of offerings! For there the shield of the mighty was defiled, the shield of Saul, not anointed with oil.\n",
      "\n",
      "22 \n",
      "\n",
      "From the blood of the slain, from the fat of the mighty, the bow of Jonathan turned not back, and the sword of Saul returned not empty.\n",
      "\n",
      "23 \n",
      "\n",
      "Saul and Jonathan, beloved and lovely! In life and in death they were not divided; they were swifter than eagles; they were stronger than lions.\n",
      "\n",
      "24 \n",
      "\n",
      "You daughters of Israel, weep over Saul, who clothed you luxuriously in scarlet, who put ornaments of gold on your apparel.\n",
      "\n",
      "25 \n",
      "\n",
      "How the mighty have fallen in the midst of the battle!\n",
      "Jonathan lies slain on your high places.\n",
      "\n",
      "26 I am distressed for you, my brother Jonathan; very pleasant have you been to me; your love to me was extraordinary, surpassing the love of women.\n",
      "27 \n",
      "\n",
      "How the mighty have fallen, and the weapons of war perished!\n",
      "\n"
     ]
    }
   ],
   "source": [
    "book(10,1)"
   ]
  },
  {
   "cell_type": "code",
   "execution_count": null,
   "metadata": {},
   "outputs": [],
   "source": [
    "book(1,2)"
   ]
  },
  {
   "cell_type": "code",
   "execution_count": null,
   "metadata": {},
   "outputs": [],
   "source": []
  },
  {
   "cell_type": "code",
   "execution_count": null,
   "metadata": {},
   "outputs": [],
   "source": []
  },
  {
   "cell_type": "code",
   "execution_count": null,
   "metadata": {},
   "outputs": [],
   "source": []
  },
  {
   "cell_type": "code",
   "execution_count": null,
   "metadata": {},
   "outputs": [],
   "source": []
  },
  {
   "cell_type": "code",
   "execution_count": null,
   "metadata": {},
   "outputs": [],
   "source": [
    "%load_ext sql\n",
    "%sql sqlite:///esv.db"
   ]
  },
  {
   "cell_type": "code",
   "execution_count": null,
   "metadata": {},
   "outputs": [],
   "source": [
    "%%sql\n",
    "\n",
    "DROP TABLE book;\n",
    "DROP TABLE verse;"
   ]
  },
  {
   "cell_type": "code",
   "execution_count": null,
   "metadata": {},
   "outputs": [],
   "source": [
    "%%sql\n",
    "\n",
    "CREATE TABLE book (\n",
    "    book_id INTEGER PRIMARY KEY AUTOINCREMENT,\n",
    "    name varchar NOT NULL,\n",
    "    info varchar,\n",
    "    testament varchar NOT NULL\n",
    ");\n",
    "\n",
    "CREATE TABLE verse (\n",
    "    verse_id INTEGER PRIMARY KEY AUTOINCREMENT,\n",
    "    chapter INTEGER NOT NULL,\n",
    "    text varchar NOT NULL,\n",
    "    comment varchar,\n",
    "    jesus_text INTEGER NOT NULL\n",
    ");\n"
   ]
  },
  {
   "cell_type": "code",
   "execution_count": null,
   "metadata": {},
   "outputs": [],
   "source": []
  }
 ],
 "metadata": {
  "kernelspec": {
   "display_name": "Python 3",
   "language": "python",
   "name": "python3"
  },
  "language_info": {
   "codemirror_mode": {
    "name": "ipython",
    "version": 3
   },
   "file_extension": ".py",
   "mimetype": "text/x-python",
   "name": "python",
   "nbconvert_exporter": "python",
   "pygments_lexer": "ipython3",
   "version": "3.7.3"
  }
 },
 "nbformat": 4,
 "nbformat_minor": 2
}
