{
 "cells": [
  {
   "cell_type": "markdown",
   "metadata": {},
   "source": [
    "# Not processed (SEC)\n",
    "* Vanderbilt\n",
    "    * write script to search for x.text == Statistics to download pdf's\n",
    "    * scripts to process pdfs\n",
    "    * https://vucommodores.com/baseball-archives/\n",
    "    \n",
    "* Arkansas\n",
    "    * html or pdf \n",
    "    * https://arkansasrazorbacks.com/stats/baseball/2020/teamcume.htm\n",
    "    \n",
    "* LSU\n",
    "    * https://static.lsusports.net/custompages/assets/docs/bb/20stats/teamcume.htm\n",
    "\n",
    "* Mississippi State\n",
    "    * https://hailstate.com/sports/baseball/stats/2020\n",
    "    \n",
    "* Texas A&M\n",
    "    * https://12thman.com/sports/baseball/stats\n",
    "    \n",
    "* South Carolina\n",
    "    * https://gamecocksonline.com/sports/baseball/stats/2020\n",
    "\n",
    "* Ole Miss\n",
    "    * https://olemisssports.com/sports/baseball/stats/2020\n",
    "    * https://olemisssports.com/sports/2018/7/20/sports-m-basebl-archive-ole-m-basel-archive-html.aspx\n",
    "    \n",
    "* Auburn\n",
    "    * https://auburntigers.com/sports/baseball/stats\n",
    "    \n",
    "* Georgia\n",
    "    * https://georgiadogs.com/sports/baseball/stats/2020\n",
    "    * http://www.georgiadogsmedia.com/geo-stats/bsb/2006-2007/teamcume.htm\n",
    "    * https://georgiadogs.com/sports/2017/6/24/georgia-baseball-statistics.aspx\n",
    "    \n",
    "* Kentucky \n",
    "    * https://ukathletics.com/sports/baseball/stats\n",
    "    * Going to need to look up year by year for pdf files\n",
    "    \n",
    "* Tennesse\n",
    "    * https://utsports.com/sports/baseball/stats\n",
    "    * only to 2017, couldn't find anything before\n",
    "    \n",
    "* Alabama\n",
    "    * https://rolltide.com/sports/baseball/stats\n",
    "    * https://rolltide.com/sports/2016/6/10/sports-m-basebl-archive-alab-m-basebl-archive-html.aspx\n",
    " \n",
    "\n",
    "    \n"
   ]
  },
  {
   "cell_type": "markdown",
   "metadata": {},
   "source": [
    "# ACC\n",
    "\n",
    "* Louisville\n",
    "    * https://gocards.com/sports/baseball/stats\n",
    "    * to 2014\n",
    "\n",
    "* Virginia\n",
    "    * website seems to be broken\n",
    "    \n",
    "* Florida State\n",
    "    * https://seminoles.com/baseball-archives-2/\n",
    "    \n",
    "* North Carolina\n",
    "    * https://goheels.com/sports/baseball/stats\n",
    "    * to 2017\n",
    "    * https://goheels.com/sports/2012/8/31/205672102.aspx\n",
    "\n",
    "*"
   ]
  }
 ],
 "metadata": {
  "kernelspec": {
   "display_name": "Python 3",
   "language": "python",
   "name": "python3"
  },
  "language_info": {
   "codemirror_mode": {
    "name": "ipython",
    "version": 3
   },
   "file_extension": ".py",
   "mimetype": "text/x-python",
   "name": "python",
   "nbconvert_exporter": "python",
   "pygments_lexer": "ipython3",
   "version": "3.7.3"
  }
 },
 "nbformat": 4,
 "nbformat_minor": 2
}
