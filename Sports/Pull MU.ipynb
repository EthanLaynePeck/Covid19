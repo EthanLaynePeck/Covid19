{
 "cells": [
  {
   "cell_type": "markdown",
   "metadata": {},
   "source": [
    "# Defining function to pull MU baseball data\n",
    "\n",
    "* gives global \"db_names\" and \"table_data\"\n",
    "* also gives database name map with \"name_map\" dictionary"
   ]
  },
  {
   "cell_type": "code",
   "execution_count": null,
   "metadata": {},
   "outputs": [],
   "source": [
    "import requests \n",
    "from bs4 import BeautifulSoup \n",
    "from pprint import pprint\n",
    "import pandas as pd\n",
    "import numpy\n",
    "\n",
    "def pull_MU(year):\n",
    "    url = 'https://mutigers.com/sports/baseball/stats/'+str(year)\n",
    "    r = requests.get(url)\n",
    "    soup = BeautifulSoup(r.content, \"html\")\n",
    "    table = soup.table\n",
    "    \n",
    "    trs = table.find_all('tr')\n",
    "    header_row = trs[0]\n",
    "    \n",
    "    names = []\n",
    "    for column in header_row.find_all('th'):\n",
    "        names.append(column.text)\n",
    "    names.remove('Bio Link')\n",
    "    \n",
    "    global db_names\n",
    "    global table_data\n",
    "    table_data = []\n",
    "    db_names = []\n",
    "    for column in names:\n",
    "        db_names.append(column.lower())\n",
    "    table_data = table.find_all('tr')\n",
    "    table_data = table_data[1:]\n",
    "    \n",
    "    global name_map\n",
    "    names_full = ['Player Number', 'Name','Batting Average','On-base Plus Slugging',\n",
    "             'Games Played','Games Started','At-bat','Run','Hit','Double','Triple','Home Run',\n",
    "             'Runs Batted In','Total Bases','Slugging Percentage','Walk','Hit-by-pitch','Strikeout',\n",
    "             'Ground Into Double Play','On-base Percentage','Sacrifice Fly','Sacrifice Bunt',\n",
    "             'Stolen bases allowed','Stealing attempts', 'Year']\n",
    "    db_names[4] = 'gp'\n",
    "    db_names[21] = 'sb'\n",
    "    db_names.insert(22,'att')\n",
    "    db_names.insert(5, 'gs')\n",
    "    db_names.append('year')\n",
    "    name_map = dict(zip(db_names, names_full))"
   ]
  },
  {
   "cell_type": "markdown",
   "metadata": {},
   "source": [
    "# Defining function to clean and format to insert into Pandas"
   ]
  },
  {
   "cell_type": "code",
   "execution_count": null,
   "metadata": {},
   "outputs": [],
   "source": [
    "def clean_MU(data, year):\n",
    "    processed_data = []\n",
    "\n",
    "\n",
    "    for row in range(0, len(table_data)-2):\n",
    "        row_data = table_data[row].text.split()\n",
    "\n",
    "        if len(table_data[row].text.split()) == 28:\n",
    "            row_data = row_data[3:26]\n",
    "            row_data[1:3] = [' '.join(row_data[1:3])]\n",
    "            row_data = [y for x in row_data for y in x.split('-')]\n",
    "            row_data.append(year)\n",
    "            processed_data.append(\n",
    "                dict(zip(db_names,row_data)))\n",
    "\n",
    "        elif len(table_data[row].text.split()) == 30:\n",
    "            row_data = row_data[4:28]\n",
    "            row_data[1:4] = [' '.join(row_data[1:4])]\n",
    "            row_data = [y for x in row_data for y in x.split('-')]\n",
    "            row_data.append(year)\n",
    "            processed_data.append(\n",
    "                dict(zip(db_names,row_data)))\n",
    "\n",
    "        else:\n",
    "            print('Row with index of {} not stored'.format(row))\n",
    "            print(table_data[row].text.split())\n",
    "            \n",
    "        \n",
    "\n",
    "    return processed_data"
   ]
  },
  {
   "cell_type": "markdown",
   "metadata": {},
   "source": [
    "# Extracting and formatting all MU Baseball Data"
   ]
  },
  {
   "cell_type": "code",
   "execution_count": null,
   "metadata": {},
   "outputs": [],
   "source": [
    "pull_MU(2015)\n",
    "mu2015 = clean_MU(table_data, 2015)\n",
    "\n",
    "pull_MU(2016)\n",
    "mu2016 = clean_MU(table_data, 2016)\n",
    "\n",
    "pull_MU(2017)\n",
    "mu2017 = clean_MU(table_data, 2017)\n",
    "\n",
    "pull_MU(2018)\n",
    "mu2018 = clean_MU(table_data, 2018)\n",
    "\n",
    "pull_MU(2019)\n",
    "mu2019 = clean_MU(table_data, 2019)"
   ]
  },
  {
   "cell_type": "markdown",
   "metadata": {},
   "source": [
    "# Insert data into Pandas Dataframe\n",
    "\n",
    "* Combines all df into one\n",
    "* Saves as HDF5 file"
   ]
  },
  {
   "cell_type": "code",
   "execution_count": null,
   "metadata": {},
   "outputs": [],
   "source": [
    "df2015 = pd.DataFrame(mu2015)\n",
    "df2016 = pd.DataFrame(mu2016)\n",
    "df2017 = pd.DataFrame(mu2017)\n",
    "df2018 = pd.DataFrame(mu2018)\n",
    "df2019 = pd.DataFrame(mu2019)"
   ]
  },
  {
   "cell_type": "code",
   "execution_count": null,
   "metadata": {},
   "outputs": [],
   "source": [
    "mu_baseball = pd.concat([df2015, df2016, df2017, df2018, df2019])"
   ]
  },
  {
   "cell_type": "code",
   "execution_count": null,
   "metadata": {},
   "outputs": [],
   "source": [
    "filepath = \"mu_baseball.h5\"\n",
    "mu_baseball.to_hdf(filepath, key = 'mu')"
   ]
  },
  {
   "cell_type": "markdown",
   "metadata": {},
   "source": [
    "# Opening saved file and queries to make sure it read correctly"
   ]
  },
  {
   "cell_type": "code",
   "execution_count": null,
   "metadata": {},
   "outputs": [],
   "source": [
    "reread = pd.read_hdf('./mu_baseball.h5')"
   ]
  },
  {
   "cell_type": "code",
   "execution_count": null,
   "metadata": {},
   "outputs": [],
   "source": [
    "reread"
   ]
  }
 ],
 "metadata": {
  "kernelspec": {
   "display_name": "Python 3",
   "language": "python",
   "name": "python3"
  },
  "language_info": {
   "codemirror_mode": {
    "name": "ipython",
    "version": 3
   },
   "file_extension": ".py",
   "mimetype": "text/x-python",
   "name": "python",
   "nbconvert_exporter": "python",
   "pygments_lexer": "ipython3",
   "version": "3.7.3"
  }
 },
 "nbformat": 4,
 "nbformat_minor": 2
}
