{
 "cells": [
  {
   "cell_type": "code",
   "execution_count": 5,
   "metadata": {},
   "outputs": [],
   "source": [
    "#loading in cases by state/county covid data\n",
    "\n",
    "cases <- read.csv(\"../COVID-19/csse_covid_19_data/csse_covid_19_time_series/time_series_covid19_confirmed_US.csv\")"
   ]
  },
  {
   "cell_type": "code",
   "execution_count": 6,
   "metadata": {},
   "outputs": [
    {
     "data": {
      "text/html": [
       "<table>\n",
       "<caption>A data.frame: 6 × 121</caption>\n",
       "<thead>\n",
       "\t<tr><th scope=col>UID</th><th scope=col>iso2</th><th scope=col>iso3</th><th scope=col>code3</th><th scope=col>FIPS</th><th scope=col>Admin2</th><th scope=col>Province_State</th><th scope=col>Country_Region</th><th scope=col>Lat</th><th scope=col>Long_</th><th scope=col>⋯</th><th scope=col>X5.1.20</th><th scope=col>X5.2.20</th><th scope=col>X5.3.20</th><th scope=col>X5.4.20</th><th scope=col>X5.5.20</th><th scope=col>X5.6.20</th><th scope=col>X5.7.20</th><th scope=col>X5.8.20</th><th scope=col>X5.9.20</th><th scope=col>X5.10.20</th></tr>\n",
       "\t<tr><th scope=col>&lt;int&gt;</th><th scope=col>&lt;fct&gt;</th><th scope=col>&lt;fct&gt;</th><th scope=col>&lt;int&gt;</th><th scope=col>&lt;dbl&gt;</th><th scope=col>&lt;fct&gt;</th><th scope=col>&lt;fct&gt;</th><th scope=col>&lt;fct&gt;</th><th scope=col>&lt;dbl&gt;</th><th scope=col>&lt;dbl&gt;</th><th scope=col>⋯</th><th scope=col>&lt;int&gt;</th><th scope=col>&lt;int&gt;</th><th scope=col>&lt;int&gt;</th><th scope=col>&lt;int&gt;</th><th scope=col>&lt;int&gt;</th><th scope=col>&lt;int&gt;</th><th scope=col>&lt;int&gt;</th><th scope=col>&lt;int&gt;</th><th scope=col>&lt;int&gt;</th><th scope=col>&lt;int&gt;</th></tr>\n",
       "</thead>\n",
       "<tbody>\n",
       "\t<tr><td>      16</td><td>AS</td><td>ASM</td><td> 16</td><td>  60</td><td>       </td><td>American Samoa          </td><td>US</td><td>-14.27100</td><td>-170.13200</td><td>⋯</td><td>   0</td><td>   0</td><td>   0</td><td>   0</td><td>   0</td><td>   0</td><td>   0</td><td>   0</td><td>   0</td><td>   0</td></tr>\n",
       "\t<tr><td>     316</td><td>GU</td><td>GUM</td><td>316</td><td>  66</td><td>       </td><td>Guam                    </td><td>US</td><td> 13.44430</td><td> 144.79370</td><td>⋯</td><td> 145</td><td> 145</td><td> 145</td><td> 145</td><td> 145</td><td> 149</td><td> 149</td><td> 151</td><td> 151</td><td> 151</td></tr>\n",
       "\t<tr><td>     580</td><td>MP</td><td>MNP</td><td>580</td><td>  69</td><td>       </td><td>Northern Mariana Islands</td><td>US</td><td> 15.09790</td><td> 145.67390</td><td>⋯</td><td>  14</td><td>  14</td><td>  14</td><td>  14</td><td>  14</td><td>  15</td><td>  15</td><td>  15</td><td>  16</td><td>  16</td></tr>\n",
       "\t<tr><td>     630</td><td>PR</td><td>PRI</td><td>630</td><td>  72</td><td>       </td><td>Puerto Rico             </td><td>US</td><td> 18.22080</td><td> -66.59010</td><td>⋯</td><td>1575</td><td>1757</td><td>1808</td><td>1843</td><td>1924</td><td>1968</td><td>2031</td><td>2156</td><td>2173</td><td>2198</td></tr>\n",
       "\t<tr><td>     850</td><td>VI</td><td>VIR</td><td>850</td><td>  78</td><td>       </td><td>Virgin Islands          </td><td>US</td><td> 18.33580</td><td> -64.89630</td><td>⋯</td><td>  66</td><td>  66</td><td>  66</td><td>  66</td><td>  66</td><td>  66</td><td>  66</td><td>  68</td><td>  68</td><td>  69</td></tr>\n",
       "\t<tr><td>84001001</td><td>US</td><td>USA</td><td>840</td><td>1001</td><td>Autauga</td><td>Alabama                 </td><td>US</td><td> 32.53953</td><td> -86.64408</td><td>⋯</td><td>  42</td><td>  45</td><td>  48</td><td>  53</td><td>  53</td><td>  58</td><td>  61</td><td>  67</td><td>  68</td><td>  74</td></tr>\n",
       "</tbody>\n",
       "</table>\n"
      ],
      "text/latex": [
       "A data.frame: 6 × 121\n",
       "\\begin{tabular}{r|lllllllllllllllllllllllllllllllllllllllllllllllllllllllllllllllllllllllllllllllllllllllllllllllllllllllllllllllllllllllll}\n",
       " UID & iso2 & iso3 & code3 & FIPS & Admin2 & Province\\_State & Country\\_Region & Lat & Long\\_ & Combined\\_Key & X1.22.20 & X1.23.20 & X1.24.20 & X1.25.20 & X1.26.20 & X1.27.20 & X1.28.20 & X1.29.20 & X1.30.20 & X1.31.20 & X2.1.20 & X2.2.20 & X2.3.20 & X2.4.20 & X2.5.20 & X2.6.20 & X2.7.20 & X2.8.20 & X2.9.20 & X2.10.20 & X2.11.20 & X2.12.20 & X2.13.20 & X2.14.20 & X2.15.20 & X2.16.20 & X2.17.20 & X2.18.20 & X2.19.20 & X2.20.20 & X2.21.20 & X2.22.20 & X2.23.20 & X2.24.20 & X2.25.20 & X2.26.20 & X2.27.20 & X2.28.20 & X2.29.20 & X3.1.20 & X3.2.20 & X3.3.20 & X3.4.20 & X3.5.20 & X3.6.20 & X3.7.20 & X3.8.20 & X3.9.20 & X3.10.20 & X3.11.20 & X3.12.20 & X3.13.20 & X3.14.20 & X3.15.20 & X3.16.20 & X3.17.20 & X3.18.20 & X3.19.20 & X3.20.20 & X3.21.20 & X3.22.20 & X3.23.20 & X3.24.20 & X3.25.20 & X3.26.20 & X3.27.20 & X3.28.20 & X3.29.20 & X3.30.20 & X3.31.20 & X4.1.20 & X4.2.20 & X4.3.20 & X4.4.20 & X4.5.20 & X4.6.20 & X4.7.20 & X4.8.20 & X4.9.20 & X4.10.20 & X4.11.20 & X4.12.20 & X4.13.20 & X4.14.20 & X4.15.20 & X4.16.20 & X4.17.20 & X4.18.20 & X4.19.20 & X4.20.20 & X4.21.20 & X4.22.20 & X4.23.20 & X4.24.20 & X4.25.20 & X4.26.20 & X4.27.20 & X4.28.20 & X4.29.20 & X4.30.20 & X5.1.20 & X5.2.20 & X5.3.20 & X5.4.20 & X5.5.20 & X5.6.20 & X5.7.20 & X5.8.20 & X5.9.20 & X5.10.20\\\\\n",
       " <int> & <fct> & <fct> & <int> & <dbl> & <fct> & <fct> & <fct> & <dbl> & <dbl> & <fct> & <int> & <int> & <int> & <int> & <int> & <int> & <int> & <int> & <int> & <int> & <int> & <int> & <int> & <int> & <int> & <int> & <int> & <int> & <int> & <int> & <int> & <int> & <int> & <int> & <int> & <int> & <int> & <int> & <int> & <int> & <int> & <int> & <int> & <int> & <int> & <int> & <int> & <int> & <int> & <int> & <int> & <int> & <int> & <int> & <int> & <int> & <int> & <int> & <int> & <int> & <int> & <int> & <int> & <int> & <int> & <int> & <int> & <int> & <int> & <int> & <int> & <int> & <int> & <int> & <int> & <int> & <int> & <int> & <int> & <int> & <int> & <int> & <int> & <int> & <int> & <int> & <int> & <int> & <int> & <int> & <int> & <int> & <int> & <int> & <int> & <int> & <int> & <int> & <int> & <int> & <int> & <int> & <int> & <int> & <int> & <int> & <int> & <int> & <int> & <int> & <int> & <int> & <int> & <int> & <int> & <int> & <int> & <int> & <int> & <int>\\\\\n",
       "\\hline\n",
       "\t       16 & AS & ASM &  16 &   60 &         & American Samoa           & US & -14.27100 & -170.13200 & American Samoa, US           & 0 & 0 & 0 & 0 & 0 & 0 & 0 & 0 & 0 & 0 & 0 & 0 & 0 & 0 & 0 & 0 & 0 & 0 & 0 & 0 & 0 & 0 & 0 & 0 & 0 & 0 & 0 & 0 & 0 & 0 & 0 & 0 & 0 & 0 & 0 & 0 & 0 & 0 & 0 & 0 & 0 & 0 & 0 & 0 & 0 & 0 & 0 & 0 & 0 & 0 & 0 & 0 & 0 & 0 & 0 & 0 & 0 &  0 &  0 &  0 &  0 &  0 &  0 &  0 &  0 &  0 &   0 &   0 &   0 &   0 &   0 &   0 &   0 &   0 &   0 &   0 &   0 &   0 &   0 &   0 &   0 &   0 &   0 &   0 &   0 &    0 &    0 &    0 &    0 &    0 &    0 &    0 &    0 &    0 &    0 &    0 &    0 &    0 &    0 &    0 &    0 &    0 &    0 &    0 &    0 &    0 &    0 &    0 &    0 &    0\\\\\n",
       "\t      316 & GU & GUM & 316 &   66 &         & Guam                     & US &  13.44430 &  144.79370 & Guam, US                     & 0 & 0 & 0 & 0 & 0 & 0 & 0 & 0 & 0 & 0 & 0 & 0 & 0 & 0 & 0 & 0 & 0 & 0 & 0 & 0 & 0 & 0 & 0 & 0 & 0 & 0 & 0 & 0 & 0 & 0 & 0 & 0 & 0 & 0 & 0 & 0 & 0 & 0 & 0 & 0 & 0 & 0 & 0 & 0 & 0 & 0 & 0 & 0 & 0 & 0 & 0 & 0 & 0 & 0 & 3 & 3 & 5 & 12 & 14 & 15 & 27 & 29 & 32 & 37 & 45 & 51 &  55 &  56 &  58 &  69 &  77 &  82 &  84 &  93 & 112 & 113 & 121 & 121 & 128 & 130 & 133 & 133 & 133 & 133 & 135 &  135 &  136 &  136 &  136 &  136 &  136 &  136 &  139 &  141 &  141 &  141 &  141 &  141 &  141 &  145 &  145 &  145 &  145 &  145 &  145 &  149 &  149 &  151 &  151 &  151\\\\\n",
       "\t      580 & MP & MNP & 580 &   69 &         & Northern Mariana Islands & US &  15.09790 &  145.67390 & Northern Mariana Islands, US & 0 & 0 & 0 & 0 & 0 & 0 & 0 & 0 & 0 & 0 & 0 & 0 & 0 & 0 & 0 & 0 & 0 & 0 & 0 & 0 & 0 & 0 & 0 & 0 & 0 & 0 & 0 & 0 & 0 & 0 & 0 & 0 & 0 & 0 & 0 & 0 & 0 & 0 & 0 & 0 & 0 & 0 & 0 & 0 & 0 & 0 & 0 & 0 & 0 & 0 & 0 & 0 & 0 & 0 & 0 & 0 & 0 &  0 &  0 &  0 &  0 &  0 &  0 &  0 &  0 &  0 &   0 &   0 &   0 &   2 &   6 &   6 &   8 &   8 &   8 &   8 &   8 &  11 &  11 &  11 &  11 &  11 &  11 &  11 &  13 &   13 &   13 &   14 &   14 &   14 &   14 &   14 &   14 &   14 &   14 &   14 &   14 &   14 &   14 &   14 &   14 &   14 &   14 &   14 &   14 &   15 &   15 &   15 &   16 &   16\\\\\n",
       "\t      630 & PR & PRI & 630 &   72 &         & Puerto Rico              & US &  18.22080 &  -66.59010 & Puerto Rico, US              & 0 & 0 & 0 & 0 & 0 & 0 & 0 & 0 & 0 & 0 & 0 & 0 & 0 & 0 & 0 & 0 & 0 & 0 & 0 & 0 & 0 & 0 & 0 & 0 & 0 & 0 & 0 & 0 & 0 & 0 & 0 & 0 & 0 & 0 & 0 & 0 & 0 & 0 & 0 & 0 & 0 & 0 & 0 & 0 & 0 & 0 & 0 & 0 & 0 & 0 & 0 & 0 & 0 & 0 & 5 & 5 & 5 &  5 & 14 & 21 & 23 & 31 & 39 & 51 & 64 & 79 & 100 & 127 & 174 & 239 & 286 & 316 & 316 & 452 & 475 & 513 & 573 & 620 & 683 & 725 & 788 & 897 & 903 & 923 & 974 & 1043 & 1068 & 1118 & 1213 & 1252 & 1298 & 1252 & 1416 & 1276 & 1307 & 1371 & 1389 & 1400 & 1433 & 1539 & 1575 & 1757 & 1808 & 1843 & 1924 & 1968 & 2031 & 2156 & 2173 & 2198\\\\\n",
       "\t      850 & VI & VIR & 850 &   78 &         & Virgin Islands           & US &  18.33580 &  -64.89630 & Virgin Islands, US           & 0 & 0 & 0 & 0 & 0 & 0 & 0 & 0 & 0 & 0 & 0 & 0 & 0 & 0 & 0 & 0 & 0 & 0 & 0 & 0 & 0 & 0 & 0 & 0 & 0 & 0 & 0 & 0 & 0 & 0 & 0 & 0 & 0 & 0 & 0 & 0 & 0 & 0 & 0 & 0 & 0 & 0 & 0 & 0 & 0 & 0 & 0 & 0 & 0 & 0 & 0 & 0 & 0 & 0 & 1 & 2 & 2 &  3 &  3 &  6 &  6 &  7 & 17 & 17 & 17 & 19 &  22 &  23 &  30 &  30 &  30 &  30 &  37 &  40 &  42 &  43 &  43 &  45 &  45 &  50 &  51 &  51 &  51 &  51 &  51 &   51 &   51 &   53 &   53 &   53 &   53 &   54 &   54 &   54 &   55 &   57 &   57 &   57 &   57 &   66 &   66 &   66 &   66 &   66 &   66 &   66 &   66 &   68 &   68 &   69\\\\\n",
       "\t 84001001 & US & USA & 840 & 1001 & Autauga & Alabama                  & US &  32.53953 &  -86.64408 & Autauga, Alabama, US         & 0 & 0 & 0 & 0 & 0 & 0 & 0 & 0 & 0 & 0 & 0 & 0 & 0 & 0 & 0 & 0 & 0 & 0 & 0 & 0 & 0 & 0 & 0 & 0 & 0 & 0 & 0 & 0 & 0 & 0 & 0 & 0 & 0 & 0 & 0 & 0 & 0 & 0 & 0 & 0 & 0 & 0 & 0 & 0 & 0 & 0 & 0 & 0 & 0 & 0 & 0 & 0 & 0 & 0 & 0 & 0 & 0 &  0 &  0 &  0 &  0 &  0 &  1 &  4 &  6 &  6 &   6 &   6 &   6 &   7 &   8 &  10 &  12 &  12 &  12 &  12 &  12 &  12 &  15 &  17 &  19 &  19 &  19 &  23 &  24 &   26 &   26 &   25 &   26 &   28 &   30 &   32 &   33 &   36 &   36 &   37 &   39 &   40 &   43 &   44 &   42 &   45 &   48 &   53 &   53 &   58 &   61 &   67 &   68 &   74\\\\\n",
       "\\end{tabular}\n"
      ],
      "text/markdown": [
       "\n",
       "A data.frame: 6 × 121\n",
       "\n",
       "| UID &lt;int&gt; | iso2 &lt;fct&gt; | iso3 &lt;fct&gt; | code3 &lt;int&gt; | FIPS &lt;dbl&gt; | Admin2 &lt;fct&gt; | Province_State &lt;fct&gt; | Country_Region &lt;fct&gt; | Lat &lt;dbl&gt; | Long_ &lt;dbl&gt; | ⋯ ⋯ | X5.1.20 &lt;int&gt; | X5.2.20 &lt;int&gt; | X5.3.20 &lt;int&gt; | X5.4.20 &lt;int&gt; | X5.5.20 &lt;int&gt; | X5.6.20 &lt;int&gt; | X5.7.20 &lt;int&gt; | X5.8.20 &lt;int&gt; | X5.9.20 &lt;int&gt; | X5.10.20 &lt;int&gt; |\n",
       "|---|---|---|---|---|---|---|---|---|---|---|---|---|---|---|---|---|---|---|---|---|\n",
       "|       16 | AS | ASM |  16 |   60 | <!----> | American Samoa           | US | -14.27100 | -170.13200 | ⋯ |    0 |    0 |    0 |    0 |    0 |    0 |    0 |    0 |    0 |    0 |\n",
       "|      316 | GU | GUM | 316 |   66 | <!----> | Guam                     | US |  13.44430 |  144.79370 | ⋯ |  145 |  145 |  145 |  145 |  145 |  149 |  149 |  151 |  151 |  151 |\n",
       "|      580 | MP | MNP | 580 |   69 | <!----> | Northern Mariana Islands | US |  15.09790 |  145.67390 | ⋯ |   14 |   14 |   14 |   14 |   14 |   15 |   15 |   15 |   16 |   16 |\n",
       "|      630 | PR | PRI | 630 |   72 | <!----> | Puerto Rico              | US |  18.22080 |  -66.59010 | ⋯ | 1575 | 1757 | 1808 | 1843 | 1924 | 1968 | 2031 | 2156 | 2173 | 2198 |\n",
       "|      850 | VI | VIR | 850 |   78 | <!----> | Virgin Islands           | US |  18.33580 |  -64.89630 | ⋯ |   66 |   66 |   66 |   66 |   66 |   66 |   66 |   68 |   68 |   69 |\n",
       "| 84001001 | US | USA | 840 | 1001 | Autauga | Alabama                  | US |  32.53953 |  -86.64408 | ⋯ |   42 |   45 |   48 |   53 |   53 |   58 |   61 |   67 |   68 |   74 |\n",
       "\n"
      ],
      "text/plain": [
       "  UID      iso2 iso3 code3 FIPS Admin2  Province_State           Country_Region\n",
       "1       16 AS   ASM   16     60         American Samoa           US            \n",
       "2      316 GU   GUM  316     66         Guam                     US            \n",
       "3      580 MP   MNP  580     69         Northern Mariana Islands US            \n",
       "4      630 PR   PRI  630     72         Puerto Rico              US            \n",
       "5      850 VI   VIR  850     78         Virgin Islands           US            \n",
       "6 84001001 US   USA  840   1001 Autauga Alabama                  US            \n",
       "  Lat       Long_      ⋯ X5.1.20 X5.2.20 X5.3.20 X5.4.20 X5.5.20 X5.6.20\n",
       "1 -14.27100 -170.13200 ⋯    0       0       0       0       0       0   \n",
       "2  13.44430  144.79370 ⋯  145     145     145     145     145     149   \n",
       "3  15.09790  145.67390 ⋯   14      14      14      14      14      15   \n",
       "4  18.22080  -66.59010 ⋯ 1575    1757    1808    1843    1924    1968   \n",
       "5  18.33580  -64.89630 ⋯   66      66      66      66      66      66   \n",
       "6  32.53953  -86.64408 ⋯   42      45      48      53      53      58   \n",
       "  X5.7.20 X5.8.20 X5.9.20 X5.10.20\n",
       "1    0       0       0       0    \n",
       "2  149     151     151     151    \n",
       "3   15      15      16      16    \n",
       "4 2031    2156    2173    2198    \n",
       "5   66      68      68      69    \n",
       "6   61      67      68      74    "
      ]
     },
     "metadata": {},
     "output_type": "display_data"
    }
   ],
   "source": [
    "head(cases)"
   ]
  },
  {
   "cell_type": "code",
   "execution_count": null,
   "metadata": {},
   "outputs": [],
   "source": []
  }
 ],
 "metadata": {
  "kernelspec": {
   "display_name": "R",
   "language": "R",
   "name": "ir"
  },
  "language_info": {
   "codemirror_mode": "r",
   "file_extension": ".r",
   "mimetype": "text/x-r-source",
   "name": "R",
   "pygments_lexer": "r",
   "version": "3.5.1"
  }
 },
 "nbformat": 4,
 "nbformat_minor": 2
}
