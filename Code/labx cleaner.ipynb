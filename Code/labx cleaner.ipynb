{
 "cells": [
  {
   "cell_type": "code",
   "execution_count": 32,
   "metadata": {},
   "outputs": [],
   "source": [
    "import pandas as pd\n",
    "\n",
    "raw_data = pd.read_excel('labx test.xlsx',\n",
    "              sheet_name= 'Sheet1',\n",
    "              names = ['Name', 'Value', 'Description'])\n",
    "\n",
    "raw_data = raw_data.iloc[10:,[0,1]]\n",
    "\n",
    "to_remove = ['Path [cm]', 'Volume', 'Volume unit',\n",
    "            'Molar mass', 'Molar mass unit', 'Extinction coefficient unit', \n",
    "            'Extinction coefficient', 'Dilution factor', 'Correction factor', 'Comment', 'Creation time',\n",
    "            'Overall state', 'Decimal places', 'Display unit']\n",
    "\n",
    "simple_data = raw_data[~raw_data['Name'].isin(to_remove)]\n",
    "simple_data = simple_data[~simple_data['Name'].str.contains('transmittance')]\n",
    "simple_data.to_excel('output.xlsx') "
   ]
  },
  {
   "cell_type": "code",
   "execution_count": 35,
   "metadata": {},
   "outputs": [],
   "source": [
    "import pandas as pd\n",
    "import numpy as np\n",
    "import xlsxwriter\n",
    "\n",
    "df = pd.DataFrame(np.array([[1, 2, 3], [4, 5, 6], [7, 8, 9]]), columns=['a', 'b', 'c'])\n",
    "writer = pd.ExcelWriter('pandas_simple.xlsx', engine='xlsxwriter')\n",
    "df.to_excel(writer, sheet_name='Sheet1')\n",
    "workbook = writer.book\n",
    "worksheet = writer.sheets['Sheet1']\n",
    "\n",
    "border_fmt = workbook.add_format({'bottom':5, 'top':5, 'left':5, 'right':5})\n",
    "worksheet.conditional_format(xlsxwriter.utility.xl_range(0, 0, len(df), len(df.columns)), {'type': 'no_errors', 'format': border_fmt})\n",
    "writer.save()"
   ]
  },
  {
   "cell_type": "code",
   "execution_count": null,
   "metadata": {},
   "outputs": [],
   "source": []
  }
 ],
 "metadata": {
  "kernelspec": {
   "display_name": "Python 3",
   "language": "python",
   "name": "python3"
  },
  "language_info": {
   "codemirror_mode": {
    "name": "ipython",
    "version": 3
   },
   "file_extension": ".py",
   "mimetype": "text/x-python",
   "name": "python",
   "nbconvert_exporter": "python",
   "pygments_lexer": "ipython3",
   "version": "3.7.3"
  }
 },
 "nbformat": 4,
 "nbformat_minor": 2
}
